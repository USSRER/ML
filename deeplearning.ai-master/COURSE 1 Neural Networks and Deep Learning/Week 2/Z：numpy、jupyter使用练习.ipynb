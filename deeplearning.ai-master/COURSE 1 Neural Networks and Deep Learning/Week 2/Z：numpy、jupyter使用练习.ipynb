{
 "cells": [
  {
   "cell_type": "markdown",
   "metadata": {},
   "source": [
    "# numpy练习\n",
    " 非代码部分使用markdown文档"
   ]
  },
  {
   "cell_type": "code",
   "execution_count": 45,
   "metadata": {},
   "outputs": [
    {
     "name": "stdout",
     "output_type": "stream",
     "text": [
      "[[-0.44924199]\n",
      " [ 0.63457184]\n",
      " [ 1.52037463]\n",
      " [-0.79687041]\n",
      " [ 0.12887149]]\n",
      "[[-1.14686392  0.17933285 -0.21841383  0.11599073  0.92248528]]\n"
     ]
    }
   ],
   "source": [
    "import numpy as np\n",
    "a = np.random.randn(5,1)\n",
    "b = np.random.randn(1,5)\n",
    "\n",
    "assert(b.shape == (1, 5)) #保证程序像自己想象的那样运行\n",
    "\n",
    "print(a)\n",
    "print(b)"
   ]
  },
  {
   "cell_type": "code",
   "execution_count": 34,
   "metadata": {},
   "outputs": [
    {
     "name": "stdout",
     "output_type": "stream",
     "text": [
      "(5, 1)\n"
     ]
    }
   ],
   "source": [
    "print(a.shape)"
   ]
  },
  {
   "cell_type": "code",
   "execution_count": 35,
   "metadata": {},
   "outputs": [
    {
     "name": "stdout",
     "output_type": "stream",
     "text": [
      "[[ 0.7176935  -1.21756103  0.18488831  1.89626704  0.44504821]]\n"
     ]
    }
   ],
   "source": [
    "print(a.T)"
   ]
  },
  {
   "cell_type": "code",
   "execution_count": 38,
   "metadata": {},
   "outputs": [
    {
     "name": "stdout",
     "output_type": "stream",
     "text": [
      "[[ 0.51508395 -0.87383563  0.13269314  1.36093852  0.3194082 ]\n",
      " [-0.87383563  1.48245486 -0.22511281 -2.30882085 -0.54187335]\n",
      " [ 0.13269314 -0.22511281  0.03418369  0.35059762  0.08228421]\n",
      " [ 1.36093852 -2.30882085  0.35059762  3.59582867  0.84393025]\n",
      " [ 0.3194082  -0.54187335  0.08228421  0.84393025  0.19806791]]\n"
     ]
    }
   ],
   "source": [
    "print(np.dot(a, a.T))"
   ]
  }
 ],
 "metadata": {
  "kernelspec": {
   "display_name": "Python 3",
   "language": "python",
   "name": "python3"
  },
  "language_info": {
   "codemirror_mode": {
    "name": "ipython",
    "version": 3
   },
   "file_extension": ".py",
   "mimetype": "text/x-python",
   "name": "python",
   "nbconvert_exporter": "python",
   "pygments_lexer": "ipython3",
   "version": "3.6.3"
  }
 },
 "nbformat": 4,
 "nbformat_minor": 2
}
